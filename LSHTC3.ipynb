{
 "cells": [
  {
   "cell_type": "code",
   "execution_count": 1,
   "metadata": {},
   "outputs": [],
   "source": [
    "import re\n",
    "import os\n",
    "import itertools\n",
    "from progressbar import ProgressBar\n",
    "import numpy as np\n",
    "from bs4 import BeautifulSoup\n",
    "from sklearn.metrics import precision_recall_fscore_support,f1_score\n",
    "from collections import Counter as c\n",
    "from sklearn.model_selection import train_test_split\n",
    "from scipy.sparse import csr_matrix"
   ]
  },
  {
   "cell_type": "code",
   "execution_count": 2,
   "metadata": {},
   "outputs": [],
   "source": [
    "class topnclass:\n",
    "    def __init__(self):\n",
    "        self.labels=[]                      #parsing the required data about labels and documents\n",
    "        self.data=[]\n",
    "        soup=BeautifulSoup(open('wikipediaMediumOriginalLSHTCv3-train.txt','r',encoding='utf8'),'html.parser')\n",
    "        for x in list(soup.find_all('labels')):\n",
    "            self.labels.append([ int(lab) for lab in x.get_text().split()])\n",
    "            self.data.append(x.next_sibling.strip('\\n'))\n",
    "    def toplabels(self,n):\n",
    "        alllabels=list(itertools.chain.from_iterable(self.labels))###combining list of lists to find top n labels among all label ids\n",
    "        label_counts=c(alllabels)\n",
    "        label_top=[x[0]for x in label_counts.most_common(n)]## returning top n labels\n",
    "        return label_top\n",
    "    def createdatatop(self,n):\n",
    "        pbar=ProgressBar()\n",
    "        label_list=self.toplabels(n)\n",
    "        dict_for_labels_bools={x:0for x in range(445730)}\n",
    "        for el in label_list:           #########using dict to create the data fastly\n",
    "            dict_for_labels_bools[el]=1\n",
    "        self.label_list_all=label_list\n",
    "        ############# discard only labels not data\n",
    "        tmp=[]\n",
    "        y=[]###########target class\n",
    "        X=[]#############documents\n",
    "        with open('top'+str(n)+'classdata.txt','w',encoding='utf-8') as f:\n",
    "            for i in pbar(range(len(self.data))):\n",
    "                count=0              ##########to check if a doc has labels among top n labels\n",
    "                tmp1=[]\n",
    "                for j in self.labels[i]:\n",
    "                    if dict_for_labels_bools[j]==1:\n",
    "                        count = count+1\n",
    "                        f.write('__label__')\n",
    "                        tmp1.append(j)\n",
    "                        f.write(str(j)+' ')\n",
    "                if tmp1:\n",
    "                    y.append(tmp1)\n",
    "                if count>0:\n",
    "                    f.write(self.data[i])\n",
    "                    X.append(self.data[i])\n",
    "                    f.write('\\n')\n",
    "        return X,y\n",
    "    def fastontop(self,n,loss='hs'):\n",
    "        pbar=ProgressBar()\n",
    "        X,y=self.createdatatop(n)\n",
    "        X_train, X_test, y_train, y_test=train_test_split(X, y, test_size=0.30, random_state=30,shuffle=True)\n",
    "        with open('top'+str(n)+'classtrain.txt','w',encoding='utf-8') as f:\n",
    "            for i in range(len(X_train)):\n",
    "                for j in range(len(y_train[i])):\n",
    "                    f.write(\"__label__\")\n",
    "                    f.write(str(y_train[i][j])+\" \")\n",
    "                f.write(X_train[i])\n",
    "                f.write(\"\\n\")\n",
    "        with open('top'+str(n)+'classtest.txt','w',encoding='utf-8') as f:\n",
    "            for i in range(len(X_test)):\n",
    "                f.write(X_test[i])\n",
    "                f.write(\"\\n\")\n",
    "        cmd1=\"fasttext supervised  -dim 200 -epoch 100 -lr 0.25 -loss \"+loss+\" -input top\"+str(n)+\"classtrain.txt -output top\"+str(n)+\"classmodel\"\n",
    "        mod=\"top\"+str(n)+\"classmodel.bin \"\n",
    "        tes=\"top\"+str(n)+\"classtest.txt \"\n",
    "        res=\"top\"+str(n)+\"classresult.txt\"\n",
    "        y_train_labellength=[len(x) for x in y_train]\n",
    "        Average_labels_per_document = sum(y_train_labellength)/len(y_train_labellength)\n",
    "        print('Average_labels_per_document in top '+str(n)+' class data is',Average_labels_per_document)\n",
    "        label_predict_count=str(round(Average_labels_per_document))\n",
    "        print('So,Predicting ',label_predict_count,'labels using fasttext')\n",
    "        cmd2=\"fasttext predict \"+mod+ tes+label_predict_count+' > '+ res\n",
    "        os.system(cmd1)\n",
    "        os.system(cmd2)\n",
    "        f = open(res, 'r')###############reading predicted values\n",
    "        lines =[re.split('__label__', line) for line in f.readlines()]\n",
    "        f.close()\n",
    "        lines=[x[1:]for x in lines]\n",
    "        lines=[list(map(int, x)) if isinstance(x,list) else [int(x)] for x in lines]\n",
    "        y_true_row=[]###############################################generating sparse matrices of predicted and true labels for test docs\n",
    "        y_true_col=[]\n",
    "        y_true_data=[]\n",
    "        y_pred_row=[]\n",
    "        y_pred_col=[]\n",
    "        y_pred_data=[]\n",
    "        dict_for_label_indexes={}#############################using dict to get indexes of labels fastly\n",
    "        counter_for_index_for_labels=0\n",
    "        for x in self.label_list_all:\n",
    "            dict_for_label_indexes[x]=counter_for_index_for_labels\n",
    "            counter_for_index_for_labels=counter_for_index_for_labels+1\n",
    "        for x in pbar(range(len(y_test))):\n",
    "            t1=lines[x]\n",
    "            t2=y_test[x]\n",
    "            for k in range(len(t1)):\n",
    "                y_pred_row.append(x)\n",
    "                index1=dict_for_label_indexes[t1[k]]\n",
    "                y_pred_col.append(index1)\n",
    "                y_pred_data.append(1)\n",
    "            for z in range(len(t2)):\n",
    "                y_true_row.append(x)\n",
    "                index2=dict_for_label_indexes[t2[z]]\n",
    "                y_true_col.append(index2)\n",
    "                y_true_data.append(1)\n",
    "        y_pred_sparse=csr_matrix((y_pred_data, (y_pred_row, y_pred_col)),shape=(len(y_test),n))\n",
    "        y_true_sparse=csr_matrix((y_true_data, (y_true_row, y_true_col)),shape=(len(y_test),n))\n",
    "        print(\"For top \"+str(n)+\" class (precision,recall,fscore) using macro average:\",precision_recall_fscore_support(y_true_sparse,y_pred_sparse, average='macro'))\n"
   ]
  },
  {
   "cell_type": "code",
   "execution_count": 3,
   "metadata": {},
   "outputs": [],
   "source": [
    "obj=topnclass()"
   ]
  },
  {
   "cell_type": "code",
   "execution_count": 4,
   "metadata": {},
   "outputs": [
    {
     "name": "stderr",
     "output_type": "stream",
     "text": [
      "100% (456886 of 456886) |#################| Elapsed Time: 0:00:01 Time: 0:00:01\n"
     ]
    },
    {
     "name": "stdout",
     "output_type": "stream",
     "text": [
      "Average_labels_per_document in top 10 class data is 1.0369938946015425\n",
      "So,Predicting  1 labels using fasttext\n"
     ]
    },
    {
     "name": "stderr",
     "output_type": "stream",
     "text": [
      "100% (10670 of 10670) |###################| Elapsed Time: 0:00:00 Time: 0:00:00\n"
     ]
    },
    {
     "name": "stdout",
     "output_type": "stream",
     "text": [
      "For top 10 class (precision,recall,fscore) using macro average: (0.76538425596664106, 0.73688597775871023, 0.7501356838636456, None)\n"
     ]
    }
   ],
   "source": [
    "obj.fastontop(10,'hs')   ##### pass 'softmax' in place of 'hs' to use softmax or leave it to use hierarchical softmax"
   ]
  },
  {
   "cell_type": "code",
   "execution_count": 5,
   "metadata": {},
   "outputs": [
    {
     "name": "stderr",
     "output_type": "stream",
     "text": [
      "100% (456886 of 456886) |#################| Elapsed Time: 0:00:01 Time: 0:00:01\n"
     ]
    },
    {
     "name": "stdout",
     "output_type": "stream",
     "text": [
      "Average_labels_per_document in top 10 class data is 1.0369938946015425\n",
      "So,Predicting  1 labels using fasttext\n"
     ]
    },
    {
     "name": "stderr",
     "output_type": "stream",
     "text": [
      "100% (10670 of 10670) |###################| Elapsed Time: 0:00:00 Time: 0:00:00\n"
     ]
    },
    {
     "name": "stdout",
     "output_type": "stream",
     "text": [
      "For top 10 class (precision,recall,fscore) using macro average: (0.79814411427960352, 0.76673090962548329, 0.78120219598280249, None)\n"
     ]
    }
   ],
   "source": [
    "obj.fastontop(10,'softmax')"
   ]
  },
  {
   "cell_type": "code",
   "execution_count": null,
   "metadata": {},
   "outputs": [],
   "source": []
  }
 ],
 "metadata": {
  "kernelspec": {
   "display_name": "Python [default]",
   "language": "python",
   "name": "python3"
  },
  "language_info": {
   "codemirror_mode": {
    "name": "ipython",
    "version": 3
   },
   "file_extension": ".py",
   "mimetype": "text/x-python",
   "name": "python",
   "nbconvert_exporter": "python",
   "pygments_lexer": "ipython3",
   "version": "3.6.3"
  }
 },
 "nbformat": 4,
 "nbformat_minor": 2
}
